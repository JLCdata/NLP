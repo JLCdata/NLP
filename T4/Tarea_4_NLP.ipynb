{
  "nbformat": 4,
  "nbformat_minor": 0,
  "metadata": {
    "colab": {
      "name": "Tarea 4 - NLP.ipynb",
      "provenance": [],
      "collapsed_sections": [
        "oiwJb_vmkKLZ",
        "YChwpNrrNRBe"
      ]
    },
    "kernelspec": {
      "name": "python3",
      "display_name": "Python 3"
    },
    "gpuClass": "standard"
  },
  "cells": [
    {
      "cell_type": "markdown",
      "metadata": {
        "id": "UwaDuQqCOyLJ"
      },
      "source": [
        "# **Tarea 4 - CC6205 Natural Language Processing 📚**\n",
        "\n",
        "**Integrantes:** Sebastián Tinoco, José Luis Cádiz\n",
        "\n",
        "**Fecha límite de entrega 📆:** Martes 14 de junio.\n",
        "\n",
        "**Tiempo estimado de dedicación:** 6 horas"
      ]
    },
    {
      "cell_type": "markdown",
      "metadata": {
        "id": "X4lL5hGw07yP"
      },
      "source": [
        "Bienvenid@s a la cuarta tarea del curso de Natural Language Processing (NLP). \n",
        "En esta tarea estaremos tratando el problema de **tagging** (generación de secuencias de etiquetas del mismo largo que la secuencia de input), el uso de **Convolutional Neural Networks** y **Recurrent Neural Networks**, e implementaremos una red usando PyTorch. \n",
        "\n",
        "Usen $\\LaTeX$ para las fórmulas matemáticas. En la parte de programación pueden usar lo que quieran, pero la [Auxiliar 3](https://youtu.be/36WTXvg3zh0) les puede ser de *gran ayuda*.\n",
        "\n",
        "**Instrucciones:**\n",
        "- La tarea se realiza en grupos de **máximo** 2 personas. Puede ser invidivual pero no es recomendable.\n",
        "- La entrega es a través de u-cursos a más tardar el día estipulado arriba. No se aceptan atrasos.\n",
        "- El formato de entrega es este mismo Jupyter Notebook.\n",
        "- Al momento de la revisión tu código será ejecutado. Por favor verifica que tu entrega no tenga errores de compilación.\n",
        "- En el horario de auxiliar pueden realizar consultas acerca de la tarea a través del canal de Discord del curso.\n",
        "\n",
        "Si aún no han visto las clases, se recomienda visitar los links de las referencias.\n",
        "\n",
        "**Referencias:**\n",
        "\n",
        "- [Tagging, and Hidden Markov Models ](http://www.cs.columbia.edu/~mcollins/cs4705-spring2019/slides/tagging.pdf) (slides by Michael Collins), [notes](http://www.cs.columbia.edu/~mcollins/hmms-spring2013.pdf), [video 1](https://youtu.be/-ngfOZz8yK0), [video 2](https://youtu.be/Tjgb-yQOg54), [video 3](https://youtu.be/aaa5Qoi8Vco), [video 4](https://youtu.be/4pKWIDkF_6Y)       \n",
        "- [MEMMs and CRFs](https://github.com/dccuchile/CC6205/blob/master/slides/NLP-CRF.pdf): [notes 1](http://www.cs.columbia.edu/~mcollins/crf.pdf), [notes 2](http://www.cs.columbia.edu/~mcollins/fb.pdf), [video 1](https://youtu.be/qlI-4lSUDkg), [video 2](https://youtu.be/PLoLKQwkONw), [video 3](https://youtu.be/ZpUwDy6o28Y)\n",
        "- [Convolutional Neural Networks](https://github.com/dccuchile/CC6205/blob/master/slides/NLP-CNN.pdf): [video](https://youtu.be/lLZW5Fn40r8)\n",
        "- [Recurrent Neural Networks](https://github.com/dccuchile/CC6205/blob/master/slides/NLP-RNN.pdf): [video 1](https://youtu.be/BmhjUkzz3nk), [video 2](https://youtu.be/z43YFR1iIvk), [video 3](https://youtu.be/7L5JxQdwNJk)"
      ]
    },
    {
      "cell_type": "markdown",
      "source": [
        "# Hidden Markov Models (HMM), Maximum Entropy Markov Models (MEMM) and Conditional Random Field(CRF) (1,5 puntos)"
      ],
      "metadata": {
        "id": "ANqzQ3G9WNw3"
      }
    },
    {
      "cell_type": "markdown",
      "metadata": {
        "id": "bWXD3D7RYKJ-"
      },
      "source": [
        "### Pregunta 1 (1 pt)\n",
        "Para un problema de POS tagging se define el conjunto de etiquetas $S = \\{ \\text{DET}, \\text{NOUN}, \\text{VERB}, \\text{ADP} \\}$ y se tiene un Hidden Markov Model con los siguientes parámetros estimados a partir de un corpus de entrenamiento:\n",
        "\n",
        "\\begin{equation}\n",
        "\\begin{split}\n",
        "q(\\text{NOUN}| \\text{ VERB}, \\text{DET}) &= 0.3 \\\\\n",
        "q(\\text{NOUN}|\\ w, \\text{DET}) &= 0 \\qquad \\forall w \\in S, w \\neq \\text{VERB} \\\\\n",
        "q(\\text{DET}| \\text{ VERB}, \\text{NOUN}) &= 0.4 \\\\\n",
        "q(\\text{DET}|\\ w, \\text{NOUN}) &= 0 \\qquad \\forall w \\in S, w \\neq \\text{VERB} \\\\\n",
        "e(the|\\text{ DET}) &= 0.5 \\\\\n",
        "e(pasta|\\text{ NOUN}) &= 0.6\n",
        "\\end{split}\n",
        "\\end{equation}\n",
        "\n",
        "Luego para la oración: `the man is pouring sauce on the pasta`, se tiene una tabla de programación dinámica con los siguientes valores:\n",
        "\\begin{equation}\n",
        "\\begin{split}\n",
        "\\pi(7,\\text{DET},\\text{DET})&=0.1\\\\\n",
        "\\pi(7,\\text{NOUN},\\text{DET})&=0.2\\\\\n",
        "\\pi(7,\\text{VERB},\\text{DET})&=0.01\\\\\n",
        "\\pi(7,\\text{ADP},\\text{DET})&=0.5\n",
        "\\end{split}\n",
        "\\end{equation}\n",
        "\n",
        "Con esta información, calcule el valor de $\\pi(8,\\text{DET},\\text{NOUN})$. Puede dejar el resultado expresado como una fracción.\n"
      ]
    },
    {
      "cell_type": "markdown",
      "source": [
        "**Respuesta**\n",
        "\n",
        "$$\\pi (8, \\text{DET}, \\text{NOUN}) = \\max_{w \\in S} \\pi(7, w, \\text{DET}) \\times q(\\text{NOUN}|w, \\text{DET}) \\times e(pasta|\\text{NOUN})$$\n",
        "\n",
        "Para $w = \\text{DET}$:\n",
        "\n",
        "$$\\pi(7, \\text{DET}, \\text{DET}) \\times q(\\text{NOUN}|\\text{DET}, \\text{DET}) \\times e(pasta|\\text{NOUN})$$\n",
        "\n",
        "$$0.1 \\times 0 \\times 0.6 = 0$$\n",
        "\n",
        "Para $w = \\text{NOUN}$:\n",
        "\n",
        "$$\\pi(7, \\text{NOUN}, \\text{DET}) \\times q(\\text{NOUN}|\\text{NOUN}, \\text{DET}) \\times e(pasta|\\text{NOUN})$$\n",
        "\n",
        "$$0.2 \\times 0 \\times 0.6 = 0$$\n",
        "\n",
        "Para $w = \\text{VERB}$:\n",
        "\n",
        "$$\\pi(7, \\text{VERB}, \\text{DET}) \\times q(\\text{NOUN}|\\text{VERB}, \\text{DET}) \\times e(pasta|\\text{NOUN})$$\n",
        "\n",
        "$$0.01 \\times 0.3 \\times 0.6 = 0.0018$$\n",
        "\n",
        "Para $w = \\text{ADP}$:\n",
        "\n",
        "$$\\pi(7, \\text{ADP}, \\text{DET}) \\times q(\\text{NOUN}|\\text{ADP}, \\text{DET}) \\times e(pasta|\\text{NOUN})$$\n",
        "\n",
        "$$0.5 \\times 0 \\times 0.6 = 0$$"
      ],
      "metadata": {
        "id": "hXs1l-CY0mbe"
      }
    },
    {
      "cell_type": "markdown",
      "metadata": {
        "id": "oiwJb_vmkKLZ"
      },
      "source": [
        "### Pregunta 2 (0.5 pts)\n",
        "Comente  sobre las similitudes o diferencias entre los HMMs, MEMMs y CRFs. Para esto, responda las siguientes preguntas.\n",
        "\n",
        "#### 2.1. ¿Para qué tipo de tarea sirven? Dé dos ejemplo de este tipo de tarea y descríbalos brevemente. (0.1 pts)\n",
        "\n",
        "**Respuesta:** \n",
        "\n",
        "Los HMMs, MEMMs y CRFs sirven para resolver tareas de *tagging* (también llamado *sequence labeling*). Este problema se caracteriza por tener como input una oración y salida una secuencia de categorías del mismo largo. Un ejemplo de esta tarea es el *Part of Speech Tagging*, donde se busca clasificar el rol sintactico de cada palabra en la oración. Otro ejemplo de esta tarea es el *Named Entity Recognition* (NER), donde se busca detectar todas las entidades nombradas en un texto. \n",
        "\n",
        "#### 2.2. ¿Qué modelos usan features? ¿Qué ventajas conlleva esto? (0.1 pts)\n",
        "\n",
        "**Respuesta:** \n",
        "\n",
        "Los modelos que usan features (representadas por $\\vec \\phi$) son los modelos MEMMs y CRFs. La gran ventaja de usar features es poder usar información que no pueda ser codificada en una HMM (por ejemplo, 1 si la etiqueta $s_i$ es un adverbio y la palabra $x_i$ termina en \"-ly\"). De esta forma, es posible usar *Features Templates*, que son features creadas diseñadas ex-ante y de esta forma generar automáticamente muchas features y no tener que crearlas a mano. Desde ahí, es posible añadir features mas específicas que involucren prefijos y sufijos.\n",
        "\n",
        "#### 2.3. ¿Cómo maneja cada uno de los modelos las palabras con baja frecuencia en el set de train? (0.1 pts)\n",
        "\n",
        "**Respuesta:** \n",
        "\n",
        "En el caso de las HMM, un truco para tratar con las palabras con baja o nula frecuencia es dividir el vocabulario en 2 conjuntos: palabras frecuentes y palabras infrecuentes. La idea es mapear las palabras con poca frecuencia a un espacio pequeño y finito que dependa de reglas gramaticas como sufijos, prefijos, etc. De esta forma, se puede rescatar la información de estas palabras y evitar que las probabilidades caigan a 0. Por otra parte, tanto las MEMM como las CRF asignan pesos cercanos a 0 (o incluso pesos negativos) para eventos infrecuentes, favoreciendo así con una mayor probabilidad a los sucesos que ocurren con mayor frecuencia en el corpus de entrenamiento.\n",
        "\n",
        "#### 2.4. ¿Qué le permite a los CRF realizar decisiones globales? ¿Qué diferencia con respecto a los MEMMs permite lograr esto? ¿Por qué los HMMs tampoco son capaces de tomar decisiones globales? (0.1 pts)\n",
        "\n",
        "**Respuesta:** \n",
        "\n",
        "Los CRF logran realizar decisiones globales pues no esta restringida a la posición de la etiqueta sino que toma la secuencia completa. Para esto, se restringe el vector de features sea la suma de vectores locales para todas las transiciones de etiquetas. De esta forma, mientras que las MEMMs se construyen a partir de estos vectores locales, la CRF es mucho mas poderosa pues toma en cuenta todos los vectores locales (secuencias) posibles. Por último, los HMM tampoco son capaces de tomar decisiones globales pues se construyen en base a un modelo de n-gramas con supuestos markovianos y no siempre serán capaces de modelar toda el largo de la secuencia de una sola vez.\n",
        "\n",
        "#### 2.5 Dado una secuencia de $x_1, ..., x_m$ ¿Cuántas posibles secuencias de etiquetas se pueden generar para un conjunto de etiquetas $S$ con $|S|=k$ ? ¿Analizarlas todas sería computacionalmente tratable? (0.1 pts)\n",
        "\n",
        "**Respuesta:**\n",
        "\n",
        "Para una secuencia dada de palabras $x_1, ..., x_m$ existen $k^m$ posibles secuencias que se pueden generar. Para que sea tratable computacionalmente se puede imponer supuestos markovianos y así descomponer las probabilidades según la *memoria* del modelo (dada por el supuesto). Una alternativa mas ambiciosa de esto es lo que se hace con las CRF, donde se quita el supuesto de independencia y se obtienen las probabilidades de todas las secuencias posibles (se hace uso del algoritmo de Viterbi). Al ser un modelo tan complejo, es necesario hacer uso del Forward-backward algorithm."
      ]
    },
    {
      "cell_type": "markdown",
      "source": [
        "# Convolutional Neural Networks (0,5 puntos)"
      ],
      "metadata": {
        "id": "44ACHHZIWGF1"
      }
    },
    {
      "cell_type": "markdown",
      "metadata": {
        "id": "ClRAHR95Y8aB"
      },
      "source": [
        "### Pregunta 3 (0,5 puntos)\n",
        "\n",
        "Considere la frase $w_{1..7}=$ `El agua moja y el fuego quema` $=[El, agua, moja, y, el, fuego, quema]$.\n",
        "\n",
        "La siguiente matriz de embeddings, donde la i-ésima fila corresponde al vector de embedding de la i-ésima palabra, ordenadas según aparecen en la frase. (vectores de largo 2).\n",
        "\\begin{equation}\n",
        "E = \\begin{pmatrix}\n",
        "2 & 2\\\\\n",
        "0 & -2\\\\\n",
        "0 & 1\\\\\n",
        "-2 & 1\\\\\n",
        "1 & 0\\\\\n",
        "-1 & 1\\\\\n",
        "1 & 1\n",
        "\\end{pmatrix}\n",
        "\\end{equation}\n",
        "\n",
        "Los siguientes 3 filtros\n",
        "\\begin{equation}\n",
        "U = \\begin{pmatrix}\n",
        "-1 & 1 & 0\\\\\n",
        "1 & 1 & 0\\\\\n",
        "0 & 0 & -1\\\\\n",
        "1 & -1 & -1\\\\\n",
        "-1 & -1 & 1\\\\\n",
        "1 & 0 & -1\n",
        "\\end{pmatrix}\n",
        "\\end{equation}\n",
        "\n",
        "Y la función de activación\n",
        "\\begin{equation}\n",
        "tanh = \\frac{e^{2x} - 1}{e^{2x} + 1}\n",
        "\\end{equation}\n",
        "\n",
        "Usando estos paramátros escriba los pasos para calcular la representación (vector) resultante de aplicar la operación de convolución (sin padding) + max pooling. ¿De qué tamaño sería la ventana que debemos usar?"
      ]
    },
    {
      "cell_type": "markdown",
      "metadata": {
        "id": "SlQ30Arkq0u4"
      },
      "source": [
        "**Respuesta**\n",
        "\n",
        "Tomando como punto inicial la matriz de embeddings $E$, el primer paso es generar el vector concatenado $\\vec x_i$, el cual se define por:\n",
        "\n",
        "$$\\vec x_i = \\oplus(w_{i:i+k-1}) = [\\vec w_i; \\vec w_{i+k}, ... , \\vec w_{i+k-1}]$$\n",
        "\n",
        "donde $k$ es el tamaño de la ventana, $\\vec w_i$ es la fila i-ésima de la matriz de embeddings $E$ y $\\vec x_i$ tiene dimensiones $1x6$ (la razón de esto último se explica más adelante).\n",
        "\n",
        "Luego, se realiza la operación convolución para obtener el vector $\\vec p_i$:\n",
        "\n",
        "$$\\vec p_i = tanh(\\vec x_i \\cdot U)$$\n",
        "\n",
        "donde $p_i$ es de dimensiones $1x3$.\n",
        "\n",
        "Finalmente, tomando el conjunto de vectores $p_i$ generados por la convolución, se hace max pooling para cada dimensión $j$:\n",
        "\n",
        "$$\\vec c_{[j]}= \\max_{1<i≤m} \\vec p_{i[j]} \\forall j \\in [1, l]$$\n",
        "\n",
        "donde $m$ es la cantidad de vectores generados y $l$ es la cantidad de dimensiones. Todo lo anterior resulta en un vector $c$ de $l$ dimensiones. Como en este caso $l = 3$, $c$ es un vector de dimensiones $1x3$.\n",
        "\n",
        "Por último, considerando que el filtro $U$ tiene dimensiones de $6x3$, el vector input a multiplicar necesariamente debe ser de $1x6$. Luego, como los embeddings son de tamaño 2 y no se debe realizar padding, la ventana $k$ necesariamente debe ser de tamaño 3 (es decir, es un modelo de trigramas)."
      ]
    },
    {
      "cell_type": "markdown",
      "source": [
        "# Recurrent Neural Networks (1 punto)\n"
      ],
      "metadata": {
        "id": "A0rCwen3WREC"
      }
    },
    {
      "cell_type": "markdown",
      "metadata": {
        "id": "U0et78Z4oKIq"
      },
      "source": [
        "### Pregunta 4 (0,5 puntos)\n",
        "Usando los embeddings de dos dimensiones de la pregunta anteror, la oración `el fuego quema` la podemos representar por una secuencia de vectores $(\\vec{x}_1,\\vec{x}_2,\\vec{x}_3)$, con $\\vec{x}_i \\in \\mathbb{R}^{d_x}$ y $d_x=2$.\n",
        "\n",
        "Tenemos una red recurrente *Elman* definidad como: \n",
        "\\begin{equation}\n",
        "\\begin{split}\n",
        "\\vec{s}_i &= R_{SRNN}\\left (\\vec{x}_i, \\vec{s}_{i-1}\\right ) = g \\left (\\vec{s}_{i-1}W^s + \\vec{x}_i W^x + \\vec{b}\\right ) \\\\\n",
        "\\vec{y}_i &= O_{SRNN}\\left(\\vec{s}_i\\right) = \\vec{s}_i \\\\\n",
        "\\end{split}\n",
        "\\end{equation}\n",
        "donde\n",
        "\\begin{equation}\n",
        "\\vec{s}_i, \\vec{y}_i \\in \\mathbb{R}^{d_s}, \\quad W^x \\in \\mathbb{R}^{d_x \\times d_s}, \\quad W^s \\in \\mathbb{R}^{d_s \\times d_s}, \\quad \\vec{b} \\in \\mathbb{R}^{d_s},\n",
        "\\end{equation}\n",
        "y los vectores de estado $s_i$ son de tres dimensiones, $ds= 3$.\n",
        "\n",
        "Sea\n",
        "\\begin{equation}\n",
        "\\begin{split}\n",
        "\\vec{s}_0 &= [0,0,0]\\\\\n",
        "W^x &= \\begin{pmatrix}\n",
        "0 &  0 & 1\\\\\n",
        "1 & -1 & 0\n",
        "\\end{pmatrix} \\\\\n",
        "W^s &= \\begin{pmatrix}\n",
        "1 & 0 &  1\\\\\n",
        "0 & 1 & -1\\\\\n",
        "1 & 1 &  1\n",
        "\\end{pmatrix} \\\\\n",
        "\\vec{b} &= [0, 0, 0] \\\\\n",
        "g(x) &= ReLu(x) = max(0, x)\n",
        "\\end{split}\n",
        "\\end{equation}\n",
        "\n",
        "<br>\n",
        "\n",
        "Calcule manualmente los valores de los vectores $\\vec{s}_1, \\vec{s}_2,\\vec{s}_3$ y de $\\vec{y}_1, \\vec{y}_2,\\vec{y}_3$."
      ]
    },
    {
      "cell_type": "markdown",
      "metadata": {
        "id": "fim2W8JioPhL"
      },
      "source": [
        "**Respuesta**\n",
        "\n",
        "Sea $z_i = g \\left (\\vec{s}_{i-1}W^s + \\vec{x}_i W^x + \\vec{b}\\right )$ y $\\vec s_i = ReLu(z_i)$:\n",
        "\n",
        "Tomando como input \"el\":\n",
        "\n",
        "\\begin{equation}\n",
        "z_1 = \\begin{pmatrix}\n",
        "0 &  0 & 0\n",
        "\\end{pmatrix} \\cdot \n",
        "\\begin{pmatrix}\n",
        "1 & 0 &  1\\\\\n",
        "0 & 1 & -1\\\\\n",
        "1 & 1 &  1\n",
        "\\end{pmatrix}\n",
        "+ \\begin{pmatrix}\n",
        "1 & 0\n",
        "\\end{pmatrix} \\cdot\n",
        "\\begin{pmatrix}\n",
        "0 & 0 &  1\\\\\n",
        "1 & -1 & 0\n",
        "\\end{pmatrix}\n",
        "\\end{equation}\n",
        "\n",
        "\\begin{equation}\n",
        "z_1 = \\begin{pmatrix}\n",
        "0 & 0 & 1\n",
        "\\end{pmatrix}\n",
        "\\end{equation}\n",
        "\n",
        "\\begin{equation}\n",
        "\\vec s_1 = \\vec y_1 = \\begin{pmatrix}\n",
        "0 & 0 & 1\n",
        "\\end{pmatrix}\n",
        "\\end{equation}\n",
        "\n",
        "Usando $\\vec s_1$ y tomando como input \"fuego\":\n",
        "\n",
        "\\begin{equation}\n",
        "z_2 = \\begin{pmatrix}\n",
        "0 & 0 & 1\n",
        "\\end{pmatrix} \\cdot \n",
        "\\begin{pmatrix}\n",
        "1 & 0 &  1\\\\\n",
        "0 & 1 & -1\\\\\n",
        "1 & 1 &  1\n",
        "\\end{pmatrix}\n",
        "+ \\begin{pmatrix}\n",
        "-1 & 1\n",
        "\\end{pmatrix} \\cdot\n",
        "\\begin{pmatrix}\n",
        "0 & 0 &  1\\\\\n",
        "1 & -1 & 0\n",
        "\\end{pmatrix}\n",
        "\\end{equation}\n",
        "\n",
        "\\begin{equation}\n",
        "z_2 = \\begin{pmatrix}\n",
        "2 & 0 & 0\n",
        "\\end{pmatrix}\n",
        "\\end{equation}\n",
        "\n",
        "\\begin{equation}\n",
        "\\vec s_2 = \\vec y_2 = \\begin{pmatrix}\n",
        "2 & 0 & 0\n",
        "\\end{pmatrix}\n",
        "\\end{equation}\n",
        "\n",
        "Finalmente, Usando $\\vec s_2$ y tomando como input \"quema\":\n",
        "\n",
        "\\begin{equation}\n",
        "z_3 = \\begin{pmatrix}\n",
        "2 & 0 & 0\n",
        "\\end{pmatrix} \\cdot \n",
        "\\begin{pmatrix}\n",
        "1 & 0 &  1\\\\\n",
        "0 & 1 & -1\\\\\n",
        "1 & 1 &  1\n",
        "\\end{pmatrix}\n",
        "+ \\begin{pmatrix}\n",
        "1 & 1\n",
        "\\end{pmatrix} \\cdot\n",
        "\\begin{pmatrix}\n",
        "0 & 0 &  1\\\\\n",
        "1 & -1 & 0\n",
        "\\end{pmatrix}\n",
        "\\end{equation}\n",
        "\n",
        "\\begin{equation}\n",
        "z_3 = \\begin{pmatrix}\n",
        "3 & -1 & 3\n",
        "\\end{pmatrix}\n",
        "\\end{equation}\n",
        "\n",
        "\\begin{equation}\n",
        "\\vec s_3 = \\vec y_3 = \\begin{pmatrix}\n",
        "3 & 0 & 3\n",
        "\\end{pmatrix}\n",
        "\\end{equation}\n",
        "\n",
        "\n"
      ]
    },
    {
      "cell_type": "markdown",
      "metadata": {
        "id": "W4rAT6ELxRZW"
      },
      "source": [
        "### Pregunta 5 (0.5 puntos)\n",
        "¿De qué forma las RNN y las CNN logran aprender representaciones específicas\n",
        "para la tarea objetivo? Compare la forma en que las RNN y las CNN aprenden con los modelos que usan *features* diseñadas manualmente."
      ]
    },
    {
      "cell_type": "markdown",
      "metadata": {
        "id": "b6AXbQSgA_t8"
      },
      "source": [
        "**Respuesta**\n",
        "\n",
        "Una de las virtudes de las redes RNN y CNN es el *representation learning*, es decir, la capacidad de \"aprender\" y generar features en función de lograr un mejor ajuste y así minimizar la función loss. En el caso de la CNN, las features son generadas a través de la operación convolución, donde lo que la red aprende es a optimizar los pesos del kernel, aprendiendo así a resaltar información relevante para la predicción. Un aspecto importante a considerar es que la CNN es invariante a la traslación en el sentido de que no le es importante en que orden se le entrega información, lo cual es contradictorio con el paradigma de NLP en el cual sí importa el orden en el que se escribe la oración.\n",
        "\n",
        "Por otro lado, la RNN genera features de forma secuencial, donde el procesamiento del componente i-ésimo de una secuencia impacta sobre el procesamiento del componente $i+1$. Aplicando lo anterior al contexto de NLP, esto quiere decir que, dado un documento, la RNN genera features a través del procesamiento iterativo (donde la salida de un token impacta sobre la salida del siguiente) y de esta forma la feature condensa información de toda la oración y no sólo del token en sí mismo. Así, las RNN son capaces de extraer información que fue importante almacenándola en sus estados. Por otro lado, es importante notar que los pesos de todas las etapas de la RNN son compartidos. \n",
        "\n",
        "Finalmente, las features creadas por ambas redes son mejores que las diseñadas manualmente pues son aprendidas de forma automática en función de la loss y no involucran el juicio del programador."
      ]
    },
    {
      "cell_type": "markdown",
      "source": [
        "# Pregunta 6: Redes Neuronales con Pytorch (3 puntos) 💬\n",
        "\n",
        "<center>\n",
        "<img src=\"https://www.anda.cl/wp-content/uploads/2021/03/0_5vNAtimPjYQr4W72.gif\" alt=\"chatbot\" width=\"400\">\n",
        "</center>"
      ],
      "metadata": {
        "id": "FRJkBpjWyHnb"
      }
    },
    {
      "cell_type": "code",
      "source": [
        "import pandas as pd\n",
        "\n",
        "example_data = pd.read_json('https://raw.githubusercontent.com/dccuchile/CC6205/master/assignments/star_wars_chatbot.json')\n",
        "print(\"Cantidad de tags: \", example_data['intents'].shape[0])"
      ],
      "metadata": {
        "colab": {
          "base_uri": "https://localhost:8080/"
        },
        "id": "0eKOGlMs3Dx-",
        "outputId": "00ef8c95-75b0-42cf-88e3-0dc4472e9ae2"
      },
      "execution_count": null,
      "outputs": [
        {
          "output_type": "stream",
          "name": "stdout",
          "text": [
            "Cantidad de tags:  16\n"
          ]
        }
      ]
    },
    {
      "cell_type": "code",
      "source": [
        "example_data[\"intents\"][0]"
      ],
      "metadata": {
        "colab": {
          "base_uri": "https://localhost:8080/"
        },
        "id": "3ptubwfO7pF1",
        "outputId": "8180a89d-9496-4138-909d-33abacd98ffe"
      },
      "execution_count": null,
      "outputs": [
        {
          "output_type": "execute_result",
          "data": {
            "text/plain": [
              "{'patterns': ['Hi',\n",
              "  'Hey',\n",
              "  'How are you',\n",
              "  'Is anyone there?',\n",
              "  'Hello',\n",
              "  'Good day',\n",
              "  \"What's up\",\n",
              "  'Yo!',\n",
              "  'Howdy',\n",
              "  'Nice to meet you.'],\n",
              " 'responses': ['Hey',\n",
              "  'Hello, thanks for visiting.',\n",
              "  'Hi there, what can I do for you?',\n",
              "  'Hi there, how can I help?',\n",
              "  'Hello, there.',\n",
              "  'Hello Dear',\n",
              "  'Ooooo Hello, looking for someone or something?',\n",
              "  'Yes, I am here.',\n",
              "  'Listening carefully.',\n",
              "  'Ok, I am with you.'],\n",
              " 'tag': 'greeting'}"
            ]
          },
          "metadata": {},
          "execution_count": 2
        }
      ]
    },
    {
      "cell_type": "code",
      "source": [
        "example_data[\"intents\"][1]"
      ],
      "metadata": {
        "colab": {
          "base_uri": "https://localhost:8080/"
        },
        "id": "0BnYez1oGtx3",
        "outputId": "38c30753-e43c-403d-bd4d-8913862dec35"
      },
      "execution_count": null,
      "outputs": [
        {
          "output_type": "execute_result",
          "data": {
            "text/plain": [
              "{'patterns': ['Bye',\n",
              "  'See you later.',\n",
              "  'Goodbye',\n",
              "  'Have a great day.',\n",
              "  'See you next time.',\n",
              "  'It was my pleassure.',\n",
              "  'Take care.',\n",
              "  'See ya!',\n",
              "  'Catch you later.',\n",
              "  'Ciao.'],\n",
              " 'responses': ['See you later, thanks for visiting.',\n",
              "  'May the force be with you!',\n",
              "  'See next time.',\n",
              "  'Was my pleassuare to meet you.',\n",
              "  'Hope will cath up sortly.',\n",
              "  'Have a nice day.',\n",
              "  'Bye! Come back again soon.',\n",
              "  'So, till next time.',\n",
              "  'If you need anything just text me anytime. Bye.',\n",
              "  'Well, hope see you soon!'],\n",
              " 'tag': 'goodbye'}"
            ]
          },
          "metadata": {},
          "execution_count": 3
        }
      ]
    },
    {
      "cell_type": "code",
      "source": [
        "example_data[\"intents\"][2]"
      ],
      "metadata": {
        "colab": {
          "base_uri": "https://localhost:8080/"
        },
        "id": "ritXSqEg8W9o",
        "outputId": "02f7cbae-5a48-436e-9ddb-272433340f96"
      },
      "execution_count": null,
      "outputs": [
        {
          "output_type": "execute_result",
          "data": {
            "text/plain": [
              "{'patterns': ['Thanks',\n",
              "  'Thank you',\n",
              "  \"That's helpful\",\n",
              "  \"Thank's a lot!\",\n",
              "  'Tnx',\n",
              "  'Wow',\n",
              "  'Great!',\n",
              "  'Good!',\n",
              "  'That nice!',\n",
              "  'Amazing!'],\n",
              " 'responses': ['Happy to help!',\n",
              "  'Any time!',\n",
              "  'My pleasure!',\n",
              "  'No problem!',\n",
              "  'Thans does not ',\n",
              "  'Glad to help!',\n",
              "  'No worries!',\n",
              "  'It was the least I could do!',\n",
              "  'If I had a cent for every time I appreciate you, I’d be a millionaire.',\n",
              "  \"You can't put thanks in your pocket!\"],\n",
              " 'tag': 'thanks'}"
            ]
          },
          "metadata": {},
          "execution_count": 4
        }
      ]
    },
    {
      "cell_type": "markdown",
      "source": [
        "Del dataset cargado podemos notar que este viene en un formato `JSON`, por lo que sus datos están almacenados en diccionarios. Las llaves de los diccionarios no son aleatorias y estos nos sirven para identificar puntos relevantes en el desarrollo del bot. A continuación, se realiza una pequeña descripción de las llaves:\n",
        "\n",
        "- `patterns`: Almacena los patrones con los que entrenaremos el modelo 😮, en otras palabras, es el corpus de entrenamiento que contiene solo preguntas o expresiones que deberá responder el bot.\n",
        "- `responses`: Son las respuestas 🙋 relacionadas a los `patterns`, estas las utilizaremos en una etapa posterior a la clasificación, para dar una respuesta aleatoría al usuario.\n",
        "- `tag`: Son las labels con las que entrenaremos nuestro modelo 💻. \n",
        "\n",
        "En síntesis, las `keys` relevantes para el entrenamiento de nuestra red neuronal serán `patterns` (corpus) y `tag` (etiquetas)."
      ],
      "metadata": {
        "id": "v6BvAWCw3zPM"
      }
    },
    {
      "cell_type": "markdown",
      "source": [
        "#### Explicación de la tarea a realizar:"
      ],
      "metadata": {
        "id": "KlOAdMjSSzNN"
      }
    },
    {
      "cell_type": "markdown",
      "source": [
        "**Explicación de la tarea a realizar**: Implemente una Class llamada `CNNClassifier` que sea capaz de entrenar un modelo de texto a través de una red neuronal Feed Forward y una arquitectura convolucional (CNN 1D) [`torch.nn.Conv1d`](https://pytorch.org/docs/stable/generated/torch.nn.Conv1d.html#conv1d) . Para el diseño de las redes tienen completa libertad, pero se le aconseja que se guíen de la última auxiliar para la construcción. Es **importantísimo** que el modelo a crear posea una capa de `Embedding` que se genere en base al entrenamiento del modelo. Creado el modelo, construya una función batch para cargar los datos de entrenamiento del modelo.\n",
        "\n",
        "Construido el modelo, compare los resultados obtenidos para una red feed forward y una cnn. Para la comprobación de sus resultados ejecute el chatbot y pruebelo, ¿qué configuración tiene mejores resultados?, ¿a qué se deberan estos resultados?\n",
        "\n",
        "Ojo que un ejemplo de prueba con el chatbot puede ser (agregue mas preguntas ud):\n",
        "\n",
        "```\n",
        "Let's chat! (type 'finish_chat' to finish the chat)\n",
        "You: hi\n",
        "GA-97: Yes, I am here.\n",
        "You: can you tell me a joke?\n",
        "GA-97: Have you tried the gluten-free Wookiee treats? No, but I heard they are a little Chewy.\n",
        "```\n",
        "\n",
        "El resto del código referido a la ejecución del chat se los entregamos, por lo que no deberían tener mayores problemas 😸 (en caso de tener problemas con su código, puede modificar cualquier parte sugerida siempre y cuando cumpla lo solicitado).\n",
        "\n",
        "**Igual [mucho texto](https://i0.wp.com/elgeneracionalpost.com/wp-content/uploads/2020/07/mucho-texto.jpg?fit=1280%2C720&ssl=1).... En resumen, ¿Qué se solicita?:**\n",
        "\n",
        "- [x] Diseñar una red neuronal Feed Forward.\n",
        "- [x] Diseñar un red convolucional.\n",
        "- [x] Utilizar una capa de embeddings para generar representaciones vectoriales del corpus.\n",
        "- [x] Crear el método forward de la clase `CNNClassifier`.\n",
        "- [x] Crear la función BATCH.\n",
        "- [x] Probar el modelo y comparar los resultados obtenidos con la red Feed Forward y la red CNN. Comente sus resultados de forma cualitativa, señalando con qué tipo de red obtuvo mejores resultados con el chatbot.\n",
        "\n",
        "**Nota-1:** El modelo creado debe tener la opción de entrenar a traves de una feed forward y una CNN. Esto no significa que entrenará una FF y una CN, el modelo deberá recibir un booleano que especifique que tipo de red utilizará.\n",
        "\n",
        "**Nota-2:** El dataset se descargará automáticamente en la sección `Carga de Dataset 📚`, no os preocupéis."
      ],
      "metadata": {
        "id": "9yGApnWVI4cO"
      }
    },
    {
      "cell_type": "markdown",
      "source": [
        "#### Pasemos al Código 🦾\n",
        "\n",
        "Esqueleto propuesto (se **RECOMIENDA** que cambien **SOLO** la red neuronal y la función Batch) 🦴:"
      ],
      "metadata": {
        "id": "a4bKfAdEy3oD"
      }
    },
    {
      "cell_type": "markdown",
      "source": [
        "##### Instalamos librerias necesarias e importamos 😀"
      ],
      "metadata": {
        "id": "RUwxivx2MpMV"
      }
    },
    {
      "cell_type": "code",
      "source": [
        "# Esto toma su tiempo en ejecutarse\n",
        "%%capture\n",
        "!pip install torch==1.8.0+cu111 -f https://download.pytorch.org/whl/torch_stable.html\n",
        "!pip install torchtext==0.9.0"
      ],
      "metadata": {
        "id": "TjSZkBsk1H4f"
      },
      "execution_count": null,
      "outputs": []
    },
    {
      "cell_type": "code",
      "source": [
        "import os\n",
        "import sys\n",
        "import json\n",
        "import torch\n",
        "import random\n",
        "from random import choice\n",
        "from torchtext.data.utils import get_tokenizer\n",
        "from torchtext.vocab import build_vocab_from_iterator\n",
        "\n",
        "import pandas as pd\n",
        "import torch\n",
        "import torch.nn as nn\n",
        "from torch.utils.data import Dataset, DataLoader\n",
        "\n",
        "from torch.optim import SGD, lr_scheduler\n",
        "from torch.utils.data import DataLoader\n",
        "from torch.autograd import Variable\n",
        "\n",
        "from itertools import zip_longest\n",
        "\n",
        "import plotly.express as px\n",
        "\n",
        "import numpy as np\n",
        "import nltk\n",
        "from nltk.stem.porter import PorterStemmer\n",
        "import torch.nn.functional as F"
      ],
      "metadata": {
        "id": "RfZ6SL-Q1Kwd"
      },
      "execution_count": null,
      "outputs": []
    },
    {
      "cell_type": "markdown",
      "source": [
        "##### Carga de Dataset 📚"
      ],
      "metadata": {
        "id": "oj-Epe7XJLrL"
      }
    },
    {
      "cell_type": "code",
      "source": [
        "# we obtain the dataset\n",
        "!wget 'https://raw.githubusercontent.com/dccuchile/CC6205/master/assignments/star_wars_chatbot.json'"
      ],
      "metadata": {
        "colab": {
          "base_uri": "https://localhost:8080/"
        },
        "id": "hvlLqYRrVN6l",
        "outputId": "0fd17052-16f0-481c-a733-a73db131e83d"
      },
      "execution_count": null,
      "outputs": [
        {
          "output_type": "stream",
          "name": "stdout",
          "text": [
            "--2022-06-19 22:46:07--  https://raw.githubusercontent.com/dccuchile/CC6205/master/assignments/star_wars_chatbot.json\n",
            "Resolving raw.githubusercontent.com (raw.githubusercontent.com)... 185.199.110.133, 185.199.108.133, 185.199.111.133, ...\n",
            "Connecting to raw.githubusercontent.com (raw.githubusercontent.com)|185.199.110.133|:443... connected.\n",
            "HTTP request sent, awaiting response... 200 OK\n",
            "Length: 14469 (14K) [text/plain]\n",
            "Saving to: ‘star_wars_chatbot.json.1’\n",
            "\n",
            "\rstar_wars_chatbot.j   0%[                    ]       0  --.-KB/s               \rstar_wars_chatbot.j 100%[===================>]  14.13K  --.-KB/s    in 0s      \n",
            "\n",
            "2022-06-19 22:46:07 (36.0 MB/s) - ‘star_wars_chatbot.json.1’ saved [14469/14469]\n",
            "\n"
          ]
        }
      ]
    },
    {
      "cell_type": "code",
      "source": [
        "# Load the dataset using json\n",
        "with open('star_wars_chatbot.json', 'r') as f:\n",
        "    dataset = json.load(f)\n",
        "\n",
        "# Create a vocab with the dataset and get the number of classes that have\n",
        "tokenizer = get_tokenizer(\"basic_english\")\n",
        "vocab = build_vocab_from_iterator(tokenizer(x) for list_words in dataset['intents'] for x in list_words['patterns'])\n",
        "num_classes = len(dataset['intents'])\n",
        "\n",
        "# Define a list with the labels\n",
        "labels = sorted(set([tag for tag in [intents['tag'] for intents in dataset['intents']]]))\n",
        "# Define a train_list where we can find the info in the format: [(tag_0, text_0)...,(tag_n-1, text_n-1)]\n",
        "train_list = [(labels.index(intents['tag']), text) for intents in dataset['intents'] for text in intents['patterns']]"
      ],
      "metadata": {
        "colab": {
          "base_uri": "https://localhost:8080/"
        },
        "id": "4cTRK1fkXsuy",
        "outputId": "79b9aff4-c214-44c0-bb23-02adaad0a3c7"
      },
      "execution_count": null,
      "outputs": [
        {
          "output_type": "stream",
          "name": "stderr",
          "text": [
            "97lines [00:00, 31504.37lines/s]\n"
          ]
        }
      ]
    },
    {
      "cell_type": "code",
      "source": [
        "pd.DataFrame(dataset[\"intents\"])"
      ],
      "metadata": {
        "colab": {
          "base_uri": "https://localhost:8080/",
          "height": 551
        },
        "id": "rqK1lT5K_fdm",
        "outputId": "e3a80cfa-ee6b-4e93-df6d-8e212d965583"
      },
      "execution_count": null,
      "outputs": [
        {
          "output_type": "execute_result",
          "data": {
            "text/plain": [
              "               tag                                           patterns  \\\n",
              "0         greeting  [Hi, Hey, How are you, Is anyone there?, Hello...   \n",
              "1          goodbye  [Bye, See you later., Goodbye, Have a great da...   \n",
              "2           thanks  [Thanks, Thank you, That's helpful, Thank's a ...   \n",
              "3            tasks  [What can you do?, What are your features?, Wh...   \n",
              "4            alive    [Are you alive., Do you breathe., Can you run.]   \n",
              "5             Menu  [Which items do you have in your bar?, What ki...   \n",
              "6             help  [I am looking for help., I need help., Can you...   \n",
              "7          mission  [I am on mission., I need assistance in my mis...   \n",
              "8             jedi  [Tell me top 10 jedi?, Who is the best jedi in...   \n",
              "9             sith  [Tell me top 10 sith?, Who is the best sith in...   \n",
              "10  bounti hounter  [Tell me top 10 bounti hounter?, Who is the bo...   \n",
              "11           funny  [Tell me a joke!, Can you be a bit funny, Tell...   \n",
              "12        about me  [Do you know me?, Who am I, Tell me about myse...   \n",
              "13         creator  [Who is your creator?, Who created you, Who is...   \n",
              "14          myself  [Tell me about Mr. Fbravo?, Who is Mr. Fbravo,...   \n",
              "15         stories       [Tell me a story?, Can you tell me a story.]   \n",
              "\n",
              "                                            responses context_set  \n",
              "0   [Hey, Hello, thanks for visiting., Hi there, w...         NaN  \n",
              "1   [See you later, thanks for visiting., May the ...         NaN  \n",
              "2   [Happy to help!, Any time!, My pleasure!, No p...         NaN  \n",
              "3   [I can do whatever you asks me to do, I can ta...         NaN  \n",
              "4   [I'm in doubt about that, No, i don't think so...         NaN  \n",
              "5   [I could serve for your: Fuzzy Tauntaun, Blood...         NaN  \n",
              "6   [Sure, how can in help you., Tell me what do y...         NaN  \n",
              "7   [Just tell me, you are looking for jedi or sit...         NaN  \n",
              "8   [Here is top 10 jedi you are looking for. Luke...         NaN  \n",
              "9   [Here is top 10 sith you are looking for: Dart...         NaN  \n",
              "10  [Here is top 10 bounti hounter you are looking...         NaN  \n",
              "11  [Which Jedi became a rock star? Bon Jovi-Wan K...         NaN  \n",
              "12  [Yes, you are a human, You are a dumb person a...         NaN  \n",
              "13  [That would be you Mr. Fbravo., I was created ...              \n",
              "14  [A very intelligent being who created me, My c...         NaN  \n",
              "15  [I can't think of anything right now., It woul...         NaN  "
            ],
            "text/html": [
              "\n",
              "  <div id=\"df-d0b918d8-5b65-4ad5-b3e7-e7668edafc4b\">\n",
              "    <div class=\"colab-df-container\">\n",
              "      <div>\n",
              "<style scoped>\n",
              "    .dataframe tbody tr th:only-of-type {\n",
              "        vertical-align: middle;\n",
              "    }\n",
              "\n",
              "    .dataframe tbody tr th {\n",
              "        vertical-align: top;\n",
              "    }\n",
              "\n",
              "    .dataframe thead th {\n",
              "        text-align: right;\n",
              "    }\n",
              "</style>\n",
              "<table border=\"1\" class=\"dataframe\">\n",
              "  <thead>\n",
              "    <tr style=\"text-align: right;\">\n",
              "      <th></th>\n",
              "      <th>tag</th>\n",
              "      <th>patterns</th>\n",
              "      <th>responses</th>\n",
              "      <th>context_set</th>\n",
              "    </tr>\n",
              "  </thead>\n",
              "  <tbody>\n",
              "    <tr>\n",
              "      <th>0</th>\n",
              "      <td>greeting</td>\n",
              "      <td>[Hi, Hey, How are you, Is anyone there?, Hello...</td>\n",
              "      <td>[Hey, Hello, thanks for visiting., Hi there, w...</td>\n",
              "      <td>NaN</td>\n",
              "    </tr>\n",
              "    <tr>\n",
              "      <th>1</th>\n",
              "      <td>goodbye</td>\n",
              "      <td>[Bye, See you later., Goodbye, Have a great da...</td>\n",
              "      <td>[See you later, thanks for visiting., May the ...</td>\n",
              "      <td>NaN</td>\n",
              "    </tr>\n",
              "    <tr>\n",
              "      <th>2</th>\n",
              "      <td>thanks</td>\n",
              "      <td>[Thanks, Thank you, That's helpful, Thank's a ...</td>\n",
              "      <td>[Happy to help!, Any time!, My pleasure!, No p...</td>\n",
              "      <td>NaN</td>\n",
              "    </tr>\n",
              "    <tr>\n",
              "      <th>3</th>\n",
              "      <td>tasks</td>\n",
              "      <td>[What can you do?, What are your features?, Wh...</td>\n",
              "      <td>[I can do whatever you asks me to do, I can ta...</td>\n",
              "      <td>NaN</td>\n",
              "    </tr>\n",
              "    <tr>\n",
              "      <th>4</th>\n",
              "      <td>alive</td>\n",
              "      <td>[Are you alive., Do you breathe., Can you run.]</td>\n",
              "      <td>[I'm in doubt about that, No, i don't think so...</td>\n",
              "      <td>NaN</td>\n",
              "    </tr>\n",
              "    <tr>\n",
              "      <th>5</th>\n",
              "      <td>Menu</td>\n",
              "      <td>[Which items do you have in your bar?, What ki...</td>\n",
              "      <td>[I could serve for your: Fuzzy Tauntaun, Blood...</td>\n",
              "      <td>NaN</td>\n",
              "    </tr>\n",
              "    <tr>\n",
              "      <th>6</th>\n",
              "      <td>help</td>\n",
              "      <td>[I am looking for help., I need help., Can you...</td>\n",
              "      <td>[Sure, how can in help you., Tell me what do y...</td>\n",
              "      <td>NaN</td>\n",
              "    </tr>\n",
              "    <tr>\n",
              "      <th>7</th>\n",
              "      <td>mission</td>\n",
              "      <td>[I am on mission., I need assistance in my mis...</td>\n",
              "      <td>[Just tell me, you are looking for jedi or sit...</td>\n",
              "      <td>NaN</td>\n",
              "    </tr>\n",
              "    <tr>\n",
              "      <th>8</th>\n",
              "      <td>jedi</td>\n",
              "      <td>[Tell me top 10 jedi?, Who is the best jedi in...</td>\n",
              "      <td>[Here is top 10 jedi you are looking for. Luke...</td>\n",
              "      <td>NaN</td>\n",
              "    </tr>\n",
              "    <tr>\n",
              "      <th>9</th>\n",
              "      <td>sith</td>\n",
              "      <td>[Tell me top 10 sith?, Who is the best sith in...</td>\n",
              "      <td>[Here is top 10 sith you are looking for: Dart...</td>\n",
              "      <td>NaN</td>\n",
              "    </tr>\n",
              "    <tr>\n",
              "      <th>10</th>\n",
              "      <td>bounti hounter</td>\n",
              "      <td>[Tell me top 10 bounti hounter?, Who is the bo...</td>\n",
              "      <td>[Here is top 10 bounti hounter you are looking...</td>\n",
              "      <td>NaN</td>\n",
              "    </tr>\n",
              "    <tr>\n",
              "      <th>11</th>\n",
              "      <td>funny</td>\n",
              "      <td>[Tell me a joke!, Can you be a bit funny, Tell...</td>\n",
              "      <td>[Which Jedi became a rock star? Bon Jovi-Wan K...</td>\n",
              "      <td>NaN</td>\n",
              "    </tr>\n",
              "    <tr>\n",
              "      <th>12</th>\n",
              "      <td>about me</td>\n",
              "      <td>[Do you know me?, Who am I, Tell me about myse...</td>\n",
              "      <td>[Yes, you are a human, You are a dumb person a...</td>\n",
              "      <td>NaN</td>\n",
              "    </tr>\n",
              "    <tr>\n",
              "      <th>13</th>\n",
              "      <td>creator</td>\n",
              "      <td>[Who is your creator?, Who created you, Who is...</td>\n",
              "      <td>[That would be you Mr. Fbravo., I was created ...</td>\n",
              "      <td></td>\n",
              "    </tr>\n",
              "    <tr>\n",
              "      <th>14</th>\n",
              "      <td>myself</td>\n",
              "      <td>[Tell me about Mr. Fbravo?, Who is Mr. Fbravo,...</td>\n",
              "      <td>[A very intelligent being who created me, My c...</td>\n",
              "      <td>NaN</td>\n",
              "    </tr>\n",
              "    <tr>\n",
              "      <th>15</th>\n",
              "      <td>stories</td>\n",
              "      <td>[Tell me a story?, Can you tell me a story.]</td>\n",
              "      <td>[I can't think of anything right now., It woul...</td>\n",
              "      <td>NaN</td>\n",
              "    </tr>\n",
              "  </tbody>\n",
              "</table>\n",
              "</div>\n",
              "      <button class=\"colab-df-convert\" onclick=\"convertToInteractive('df-d0b918d8-5b65-4ad5-b3e7-e7668edafc4b')\"\n",
              "              title=\"Convert this dataframe to an interactive table.\"\n",
              "              style=\"display:none;\">\n",
              "        \n",
              "  <svg xmlns=\"http://www.w3.org/2000/svg\" height=\"24px\"viewBox=\"0 0 24 24\"\n",
              "       width=\"24px\">\n",
              "    <path d=\"M0 0h24v24H0V0z\" fill=\"none\"/>\n",
              "    <path d=\"M18.56 5.44l.94 2.06.94-2.06 2.06-.94-2.06-.94-.94-2.06-.94 2.06-2.06.94zm-11 1L8.5 8.5l.94-2.06 2.06-.94-2.06-.94L8.5 2.5l-.94 2.06-2.06.94zm10 10l.94 2.06.94-2.06 2.06-.94-2.06-.94-.94-2.06-.94 2.06-2.06.94z\"/><path d=\"M17.41 7.96l-1.37-1.37c-.4-.4-.92-.59-1.43-.59-.52 0-1.04.2-1.43.59L10.3 9.45l-7.72 7.72c-.78.78-.78 2.05 0 2.83L4 21.41c.39.39.9.59 1.41.59.51 0 1.02-.2 1.41-.59l7.78-7.78 2.81-2.81c.8-.78.8-2.07 0-2.86zM5.41 20L4 18.59l7.72-7.72 1.47 1.35L5.41 20z\"/>\n",
              "  </svg>\n",
              "      </button>\n",
              "      \n",
              "  <style>\n",
              "    .colab-df-container {\n",
              "      display:flex;\n",
              "      flex-wrap:wrap;\n",
              "      gap: 12px;\n",
              "    }\n",
              "\n",
              "    .colab-df-convert {\n",
              "      background-color: #E8F0FE;\n",
              "      border: none;\n",
              "      border-radius: 50%;\n",
              "      cursor: pointer;\n",
              "      display: none;\n",
              "      fill: #1967D2;\n",
              "      height: 32px;\n",
              "      padding: 0 0 0 0;\n",
              "      width: 32px;\n",
              "    }\n",
              "\n",
              "    .colab-df-convert:hover {\n",
              "      background-color: #E2EBFA;\n",
              "      box-shadow: 0px 1px 2px rgba(60, 64, 67, 0.3), 0px 1px 3px 1px rgba(60, 64, 67, 0.15);\n",
              "      fill: #174EA6;\n",
              "    }\n",
              "\n",
              "    [theme=dark] .colab-df-convert {\n",
              "      background-color: #3B4455;\n",
              "      fill: #D2E3FC;\n",
              "    }\n",
              "\n",
              "    [theme=dark] .colab-df-convert:hover {\n",
              "      background-color: #434B5C;\n",
              "      box-shadow: 0px 1px 3px 1px rgba(0, 0, 0, 0.15);\n",
              "      filter: drop-shadow(0px 1px 2px rgba(0, 0, 0, 0.3));\n",
              "      fill: #FFFFFF;\n",
              "    }\n",
              "  </style>\n",
              "\n",
              "      <script>\n",
              "        const buttonEl =\n",
              "          document.querySelector('#df-d0b918d8-5b65-4ad5-b3e7-e7668edafc4b button.colab-df-convert');\n",
              "        buttonEl.style.display =\n",
              "          google.colab.kernel.accessAllowed ? 'block' : 'none';\n",
              "\n",
              "        async function convertToInteractive(key) {\n",
              "          const element = document.querySelector('#df-d0b918d8-5b65-4ad5-b3e7-e7668edafc4b');\n",
              "          const dataTable =\n",
              "            await google.colab.kernel.invokeFunction('convertToInteractive',\n",
              "                                                     [key], {});\n",
              "          if (!dataTable) return;\n",
              "\n",
              "          const docLinkHtml = 'Like what you see? Visit the ' +\n",
              "            '<a target=\"_blank\" href=https://colab.research.google.com/notebooks/data_table.ipynb>data table notebook</a>'\n",
              "            + ' to learn more about interactive tables.';\n",
              "          element.innerHTML = '';\n",
              "          dataTable['output_type'] = 'display_data';\n",
              "          await google.colab.output.renderOutput(dataTable, element);\n",
              "          const docLink = document.createElement('div');\n",
              "          docLink.innerHTML = docLinkHtml;\n",
              "          element.appendChild(docLink);\n",
              "        }\n",
              "      </script>\n",
              "    </div>\n",
              "  </div>\n",
              "  "
            ]
          },
          "metadata": {},
          "execution_count": 10
        }
      ]
    },
    {
      "cell_type": "markdown",
      "source": [
        "##### Creación del modelo (2 puntos en total)"
      ],
      "metadata": {
        "id": "a52SUNKPJQxi"
      }
    },
    {
      "cell_type": "code",
      "source": [
        "# Construya el modelo\n",
        "class CNNClassifier(nn.Module):\n",
        "    def __init__(self, vocab_size, embed_dim=32, num_classes=10, \n",
        "                 use_cnn=False, cnn_pool_channels=24, cnn_kernel_size=3):\n",
        "      super().__init__()\n",
        "      self.use_cnn=use_cnn\n",
        "      self.cnn_kernel_size=cnn_kernel_size\n",
        "      \n",
        "      if self.use_cnn==False:\n",
        "        # Capa de embedding\n",
        "        self.embedding = nn.Embedding(vocab_size, embed_dim)\n",
        "        \n",
        "        # Capa MLP           \n",
        "        self.fc1 = nn.Linear(embed_dim, num_classes)\n",
        "\n",
        "        # Init weights\n",
        "        self.init_weights()\n",
        "      else:\n",
        "\n",
        "        # Capa de embedding\n",
        "        self.embedding = nn.Embedding(vocab_size, embed_dim)\n",
        "\n",
        "        # capa de convolución\n",
        "        self.conv = nn.Conv1d(\n",
        "            in_channels=1,\n",
        "            out_channels=cnn_pool_channels,\n",
        "            kernel_size=cnn_kernel_size * embed_dim,\n",
        "            stride=embed_dim,\n",
        "        )\n",
        "        fc_in_size = cnn_pool_channels\n",
        "\n",
        "        # Capa MLP          \n",
        "        self.fc1 = nn.Linear(fc_in_size, num_classes)\n",
        "\n",
        "        # Init weights\n",
        "        self.init_weights()\n",
        "\n",
        "\n",
        "    def init_weights(self):\n",
        "      # Inicializar pesos\n",
        "      initrange = 0.5\n",
        "      self.embedding.weight.data.uniform_(-initrange, initrange)\n",
        "      self.fc1.weight.data.uniform_(-initrange, initrange)\n",
        "      self.fc1.bias.data.zero_()\n",
        "\n",
        "    def forward(self, text, offsets):\n",
        "      \n",
        "      # Agregamos padding para evitar errores en predicción, este es en función del kernel size\n",
        "      text=torch.cat([text]+[torch.tensor([1]) for i in range(self.cnn_kernel_size)], 0)      \n",
        "\n",
        "      text = torch.tensor(\n",
        "          list(\n",
        "              zip(\n",
        "                  *zip_longest(\n",
        "                      *([text[o:offsets[i+1]] for i, o in enumerate(offsets[:-1])] + [text[offsets[-1]:len(texts)]]), \n",
        "                      fillvalue=vocab[\"<pad>\"]\n",
        "                  )\n",
        "              )\n",
        "          )\n",
        "      ).to(text.device)\n",
        "\n",
        "      #print(text.shape)\n",
        "\n",
        "      if self.use_cnn==False:\n",
        "        # La representacion de un documento sera el promedio de los\n",
        "        # embeddings de sus palabras.\n",
        "        h = self.embedding(text)\n",
        "        h = h.mean(dim=1)  \n",
        "        # computar las capas de la red MLP\n",
        "        h = self.fc1(h)\n",
        "        \n",
        "        return h\n",
        "      else:\n",
        "        \n",
        "        h = self.embedding(text)\n",
        "\n",
        "        # (N x pool_channels)\n",
        "        h = h.view(h.size(0), 1, -1)\n",
        "        h = torch.relu(self.conv(h))\n",
        "        h = h.mean(dim=2)\n",
        "\n",
        "        # computar las capas de la red MLP\n",
        "        h = self.fc1(h)\n",
        "\n",
        "        return h"
      ],
      "metadata": {
        "id": "n-vQ24tMJG5H"
      },
      "execution_count": null,
      "outputs": []
    },
    {
      "cell_type": "markdown",
      "source": [
        "##### Función Batch 👷 (0,5 puntos)"
      ],
      "metadata": {
        "id": "dGN-T0JoJtmS"
      }
    },
    {
      "cell_type": "code",
      "source": [
        "# Defina su función de BATCH\n",
        "def generate_batch(batch):\n",
        "  label = torch.tensor([entry[0] for entry in batch])\n",
        "  texts = [tokenizer(entry[1]) for entry in batch]\n",
        "  offsets = [0] + [len(text) for text in texts]\n",
        "  offsets = torch.tensor(offsets[:-1]).cumsum(dim=0)\n",
        "  big_text = torch.cat([torch.tensor([vocab.stoi[t] for t in text]) for text in texts])\n",
        "\n",
        "  return big_text, offsets, label"
      ],
      "metadata": {
        "id": "K1AZpXc7JxTa"
      },
      "execution_count": null,
      "outputs": []
    },
    {
      "cell_type": "markdown",
      "source": [
        "##### Entrenamiento 🥊"
      ],
      "metadata": {
        "id": "YChwpNrrNRBe"
      }
    },
    {
      "cell_type": "markdown",
      "source": [
        "# Sin CNN"
      ],
      "metadata": {
        "id": "emaRT0x7Qu0v"
      }
    },
    {
      "cell_type": "code",
      "source": [
        "device = torch.device(\"cuda\" if torch.cuda.is_available() else \"cpu\")\n",
        "#device=\"cpu\"\n",
        "print(f\"GPU is avaible: {device}\")\n",
        "\n",
        "# Define the different inputs in our model\n",
        "num_epochs = 1000\n",
        "BATCH_SIZE = 16\n",
        "LR = 1e-1\n",
        "INPUT_SIZE = len(vocab)\n",
        "OUTPUT_SIZE = num_classes\n",
        "USE_CNN = False\n",
        "\n",
        "# Define model, optimizer, loss and scheduler (Q: ¿What is it?)\n",
        "model = CNNClassifier(INPUT_SIZE, num_classes=OUTPUT_SIZE, use_cnn=USE_CNN).to(device)\n",
        "optimizer = SGD(model.parameters(), lr=LR)\n",
        "criterion = nn.CrossEntropyLoss().to(device)\n",
        "scheduler = lr_scheduler.LambdaLR(optimizer, lr_lambda=[lambda epoch: .9 ** (epoch // 10)])\n",
        "\n",
        "print(f'train: {len(train_list)} elements')\n",
        "\n",
        "# We train the model using the intents\n",
        "loss_list= []\n",
        "for epoch in range(1, num_epochs):\n",
        "  train_loader = DataLoader(train_list, batch_size=BATCH_SIZE, collate_fn=generate_batch)\n",
        "  model.train()\n",
        "  total_loss = 0\n",
        "  for i, (texts, offsets, cls) in enumerate(train_loader):\n",
        "    texts = texts.to(device)\n",
        "    offsets = offsets.to(device)\n",
        "    cls = cls.to(device)\n",
        "    optimizer.zero_grad()\n",
        "    output = model(texts, offsets)\n",
        "    loss = criterion(output, cls)\n",
        "    total_loss += loss.item()\n",
        "    loss.backward()\n",
        "    optimizer.step()\n",
        "\n",
        "  loss_list.append(loss.item())\n",
        "  sys.stdout.write('\\rEpoch: {0:03d} \\t iter-Loss: {1:.3f}'.format(epoch+1, loss.item()))\n",
        "\n",
        "print(f'final loss: {loss.item():.4f}')"
      ],
      "metadata": {
        "colab": {
          "base_uri": "https://localhost:8080/"
        },
        "id": "nwoLpytCYv-P",
        "outputId": "60627607-369a-4807-f169-3ee1a56d8240"
      },
      "execution_count": null,
      "outputs": [
        {
          "output_type": "stream",
          "name": "stdout",
          "text": [
            "GPU is avaible: cpu\n",
            "train: 97 elements\n",
            "Epoch: 1000 \t iter-Loss: 0.001final loss: 0.0008\n"
          ]
        }
      ]
    },
    {
      "cell_type": "code",
      "source": [
        "# guardamos Loss para comparar posteriormente\n",
        "loss_list_sin_cnn=loss_list"
      ],
      "metadata": {
        "id": "AiC4u8isVu76"
      },
      "execution_count": null,
      "outputs": []
    },
    {
      "cell_type": "markdown",
      "source": [
        "##### A probar! 🧪"
      ],
      "metadata": {
        "id": "9dlS4_X-L3DN"
      }
    },
    {
      "cell_type": "code",
      "source": [
        "# This is working?, Try the next example!\n",
        "qText = \"'Do you know any joke?'\" # this must classify the label \"funny\"\n",
        "\n",
        "X = torch.tensor([vocab.stoi[t] for t in tokenizer(qText)]).to(device)\n",
        "\n",
        "model.eval()\n",
        "output = model(X, torch.tensor([0], dtype=torch.long).to(device))\n",
        "_, predicted = torch.max(output, dim=1)\n",
        "labels[predicted]"
      ],
      "metadata": {
        "colab": {
          "base_uri": "https://localhost:8080/",
          "height": 36
        },
        "id": "6IhhAKFXL3eH",
        "outputId": "b9baf3ce-31a9-4ddf-f578-05c61bc1683b"
      },
      "execution_count": null,
      "outputs": [
        {
          "output_type": "execute_result",
          "data": {
            "text/plain": [
              "'funny'"
            ],
            "application/vnd.google.colaboratory.intrinsic+json": {
              "type": "string"
            }
          },
          "metadata": {},
          "execution_count": 15
        }
      ]
    },
    {
      "cell_type": "markdown",
      "source": [
        "Ya pero prometiste hacer un chatbot, no una simple clasificación.... "
      ],
      "metadata": {
        "id": "udemze3zL549"
      }
    },
    {
      "cell_type": "markdown",
      "source": [
        "##### Guardamos modelo 🦺 (opcional)"
      ],
      "metadata": {
        "id": "OpSYGx2tL0tC"
      }
    },
    {
      "cell_type": "code",
      "source": [
        "# We save de model using pytorch \n",
        "data = {\n",
        "\"model_state\": model.state_dict(),\n",
        "\"input_size\": INPUT_SIZE,\n",
        "\"output_size\": OUTPUT_SIZE,\n",
        "\"use_cnn\": USE_CNN,\n",
        "\"labels\": labels\n",
        "        }\n",
        "\n",
        "FILE = \"data.pth\"\n",
        "torch.save(data, FILE)\n",
        "\n",
        "print(f'training complete. file saved to {FILE}')"
      ],
      "metadata": {
        "id": "ZBC4TyiqLzDv",
        "colab": {
          "base_uri": "https://localhost:8080/"
        },
        "outputId": "9bc7edd4-7de5-4348-bab8-02fea1488ee0"
      },
      "execution_count": null,
      "outputs": [
        {
          "output_type": "stream",
          "name": "stdout",
          "text": [
            "training complete. file saved to data.pth\n"
          ]
        }
      ]
    },
    {
      "cell_type": "markdown",
      "source": [
        "##### Chatbot 💬"
      ],
      "metadata": {
        "id": "ZYClbTtsMCjE"
      }
    },
    {
      "cell_type": "code",
      "source": [
        "device = torch.device('cuda' if torch.cuda.is_available() else 'cpu')\n",
        "#device=\"cpu\"\n",
        "with open('star_wars_chatbot.json', 'r') as json_data:\n",
        "    intents = json.load(json_data)\n",
        "\n",
        "FILE = \"data.pth\"\n",
        "data = torch.load(FILE)\n",
        "\n",
        "INPUT_SIZE = data[\"input_size\"]\n",
        "OUTPUT_SIZE = data[\"output_size\"]\n",
        "USE_CNN = data[\"use_cnn\"]\n",
        "labels = data['labels']\n",
        "model_state = data[\"model_state\"]\n",
        "\n",
        "model = CNNClassifier(INPUT_SIZE, num_classes=OUTPUT_SIZE, use_cnn=USE_CNN).to(device)\n",
        "model.load_state_dict(model_state)\n",
        "model.eval()\n",
        "\n",
        "# Dictionary with the answers\n",
        "responses = {key['tag']: key['responses'] for key in dataset['intents']}\n",
        "\n",
        "bot_name = \"GA-97\"\n",
        "print(\"Let's chat! (type 'finish_chat' to finish the chat)\")\n",
        "while True:\n",
        "    q_text = input(\"You: \")\n",
        "    q_text = q_text#+\" <pad> \"+\" <pad> \"\n",
        "    if q_text == 'finish_chat':\n",
        "        break\n",
        "\n",
        "    X = torch.tensor([vocab.stoi[t] for t in tokenizer(q_text)]).to(device)\n",
        "    output = model(X, torch.tensor([0], dtype=torch.long).to(device))\n",
        "    _, predicted = torch.max(output, dim=1)\n",
        "\n",
        "    tag = labels[predicted.item()]\n",
        "\n",
        "    probs = torch.softmax(output, dim=1)\n",
        "    prob = probs[0][predicted.item()]\n",
        "    if prob.item() > 0.50:\n",
        "      print(f\"{bot_name}: {random.choice(responses[tag])}\")\n",
        "    else:\n",
        "      print(f\"{bot_name}: My model can't understand you...\")"
      ],
      "metadata": {
        "id": "c249zUwiMBxb",
        "colab": {
          "base_uri": "https://localhost:8080/"
        },
        "outputId": "9444d0db-e17a-479b-b9c0-1b685c497b52"
      },
      "execution_count": null,
      "outputs": [
        {
          "name": "stdout",
          "output_type": "stream",
          "text": [
            "Let's chat! (type 'finish_chat' to finish the chat)\n",
            "You: Hello, how are you?\n",
            "GA-97: Yes, I am here.\n",
            "You: how can you help me?\n",
            "GA-97: Ok, you problem is my problem, if your are paying.\n",
            "You: Tell me a Joke\n",
            "GA-97: Why was the droid angry? Because people kept pushing its buttons.\n",
            "You: Do you know me?\n",
            "GA-97: You are a dumb person asking a machine about yourself\n",
            "You: Tell me about Mr bravo?\n",
            "GA-97: My model can't understand you...\n",
            "You: Tell me about Mr Fbravo\n",
            "GA-97: A very intelligent being who created me\n",
            "You: finish_chat\n"
          ]
        }
      ]
    },
    {
      "cell_type": "markdown",
      "source": [
        "# Con CNN"
      ],
      "metadata": {
        "id": "yWEQhGcuQyqZ"
      }
    },
    {
      "cell_type": "code",
      "source": [
        "device = torch.device(\"cuda\" if torch.cuda.is_available() else \"cpu\")\n",
        "#device=\"cpu\"\n",
        "print(f\"GPU is avaible: {device}\")\n",
        "\n",
        "# Define the different inputs in our model\n",
        "num_epochs = 1000\n",
        "BATCH_SIZE = 16\n",
        "LR = 1e-1\n",
        "INPUT_SIZE = len(vocab)\n",
        "OUTPUT_SIZE = num_classes\n",
        "USE_CNN = True\n",
        "\n",
        "# Define model, optimizer, loss and scheduler (Q: ¿What is it?)\n",
        "model = CNNClassifier(INPUT_SIZE, num_classes=OUTPUT_SIZE, use_cnn=USE_CNN).to(device)\n",
        "optimizer = SGD(model.parameters(), lr=LR)\n",
        "criterion = nn.CrossEntropyLoss().to(device)\n",
        "scheduler = lr_scheduler.LambdaLR(optimizer, lr_lambda=[lambda epoch: .9 ** (epoch // 10)])\n",
        "\n",
        "print(f'train: {len(train_list)} elements')\n",
        "\n",
        "# We train the model using the intents\n",
        "loss_list= []\n",
        "for epoch in range(1, num_epochs):\n",
        "  train_loader = DataLoader(train_list, batch_size=BATCH_SIZE, collate_fn=generate_batch)\n",
        "  model.train()\n",
        "  total_loss = 0\n",
        "  for i, (texts, offsets, cls) in enumerate(train_loader):\n",
        "    texts = texts.to(device)\n",
        "    offsets = offsets.to(device)\n",
        "    cls = cls.to(device)\n",
        "    optimizer.zero_grad()\n",
        "    output = model(texts, offsets)\n",
        "    loss = criterion(output, cls)\n",
        "    total_loss += loss.item()\n",
        "    loss.backward()\n",
        "    optimizer.step()\n",
        "\n",
        "  loss_list.append(loss.item())\n",
        "  sys.stdout.write('\\rEpoch: {0:03d} \\t iter-Loss: {1:.3f}'.format(epoch+1, loss.item()))\n",
        "\n",
        "print(f'final loss: {loss.item():.4f}')"
      ],
      "metadata": {
        "colab": {
          "base_uri": "https://localhost:8080/"
        },
        "outputId": "4ad86539-50c0-4bce-8a42-ff2b397a108c",
        "id": "mlmrffziQ8D2"
      },
      "execution_count": null,
      "outputs": [
        {
          "output_type": "stream",
          "name": "stdout",
          "text": [
            "GPU is avaible: cpu\n",
            "train: 97 elements\n",
            "Epoch: 1000 \t iter-Loss: 0.000final loss: 0.0001\n"
          ]
        }
      ]
    },
    {
      "cell_type": "code",
      "source": [
        "# guardamos Loss para comparar posteriormente\n",
        "loss_list_con_cnn=loss_list"
      ],
      "metadata": {
        "id": "Q1_wEU0SYIKO"
      },
      "execution_count": null,
      "outputs": []
    },
    {
      "cell_type": "markdown",
      "source": [
        "##### A probar! 🧪"
      ],
      "metadata": {
        "id": "7KXGzid-Q8D3"
      }
    },
    {
      "cell_type": "code",
      "source": [
        "# This is working?, Try the next example!\n",
        "qText = \"'Do you know any joke?'\" # this must classify the label \"funny\"\n",
        "\n",
        "X = torch.tensor([vocab.stoi[t] for t in tokenizer(qText)]).to(device)\n",
        "\n",
        "model.eval()\n",
        "output = model(X, torch.tensor([0], dtype=torch.long).to(device))\n",
        "_, predicted = torch.max(output, dim=1)\n",
        "labels[predicted]"
      ],
      "metadata": {
        "colab": {
          "base_uri": "https://localhost:8080/",
          "height": 36
        },
        "outputId": "e620515f-86e4-4bef-eb4a-da6074187598",
        "id": "2oWQvAU3Q8D3"
      },
      "execution_count": null,
      "outputs": [
        {
          "output_type": "execute_result",
          "data": {
            "text/plain": [
              "'funny'"
            ],
            "application/vnd.google.colaboratory.intrinsic+json": {
              "type": "string"
            }
          },
          "metadata": {},
          "execution_count": 20
        }
      ]
    },
    {
      "cell_type": "markdown",
      "source": [
        "Ya pero prometiste hacer un chatbot, no una simple clasificación.... "
      ],
      "metadata": {
        "id": "Kajpuw7WQ8D3"
      }
    },
    {
      "cell_type": "markdown",
      "source": [
        "##### Guardamos modelo 🦺 (opcional)"
      ],
      "metadata": {
        "id": "a9JzljL_Q8D3"
      }
    },
    {
      "cell_type": "code",
      "source": [
        "# We save de model using pytorch \n",
        "data = {\n",
        "\"model_state\": model.state_dict(),\n",
        "\"input_size\": INPUT_SIZE,\n",
        "\"output_size\": OUTPUT_SIZE,\n",
        "\"use_cnn\": USE_CNN,\n",
        "\"labels\": labels\n",
        "        }\n",
        "\n",
        "FILE = \"data.pth\"\n",
        "torch.save(data, FILE)\n",
        "\n",
        "print(f'training complete. file saved to {FILE}')"
      ],
      "metadata": {
        "colab": {
          "base_uri": "https://localhost:8080/"
        },
        "outputId": "9c60e28c-d41f-4b78-fdda-35a542c7d845",
        "id": "WdZcvWHrQ8D4"
      },
      "execution_count": null,
      "outputs": [
        {
          "output_type": "stream",
          "name": "stdout",
          "text": [
            "training complete. file saved to data.pth\n"
          ]
        }
      ]
    },
    {
      "cell_type": "markdown",
      "source": [
        "##### Chatbot 💬"
      ],
      "metadata": {
        "id": "fa6GNikNQ8D4"
      }
    },
    {
      "cell_type": "code",
      "source": [
        "device = torch.device('cuda' if torch.cuda.is_available() else 'cpu')\n",
        "#device=\"cpu\"\n",
        "with open('star_wars_chatbot.json', 'r') as json_data:\n",
        "    intents = json.load(json_data)\n",
        "\n",
        "FILE = \"data.pth\"\n",
        "data = torch.load(FILE)\n",
        "\n",
        "INPUT_SIZE = data[\"input_size\"]\n",
        "OUTPUT_SIZE = data[\"output_size\"]\n",
        "USE_CNN = data[\"use_cnn\"]\n",
        "labels = data['labels']\n",
        "model_state = data[\"model_state\"]\n",
        "\n",
        "model = CNNClassifier(INPUT_SIZE, num_classes=OUTPUT_SIZE, use_cnn=USE_CNN).to(device)\n",
        "model.load_state_dict(model_state)\n",
        "model.eval()\n",
        "\n",
        "# Dictionary with the answers\n",
        "responses = {key['tag']: key['responses'] for key in dataset['intents']}\n",
        "\n",
        "bot_name = \"GA-97\"\n",
        "print(\"Let's chat! (type 'finish_chat' to finish the chat)\")\n",
        "while True:\n",
        "    q_text = input(\"You: \")\n",
        "    q_text = q_text#+\" <pad> \"+\" <pad> \"\n",
        "    if q_text == 'finish_chat':\n",
        "        break\n",
        "\n",
        "    X = torch.tensor([vocab.stoi[t] for t in tokenizer(q_text)]).to(device)\n",
        "    output = model(X, torch.tensor([0], dtype=torch.long).to(device))\n",
        "    _, predicted = torch.max(output, dim=1)\n",
        "\n",
        "    tag = labels[predicted.item()]\n",
        "\n",
        "    probs = torch.softmax(output, dim=1)\n",
        "    prob = probs[0][predicted.item()]\n",
        "    if prob.item() > 0.50:\n",
        "      print(f\"{bot_name}: {random.choice(responses[tag])}\")\n",
        "    else:\n",
        "      print(f\"{bot_name}: My model can't understand you...\")"
      ],
      "metadata": {
        "colab": {
          "base_uri": "https://localhost:8080/"
        },
        "outputId": "d078ebec-7686-4e7e-c7d5-e327e876be75",
        "id": "dH8qbFolQ8D4"
      },
      "execution_count": null,
      "outputs": [
        {
          "name": "stdout",
          "output_type": "stream",
          "text": [
            "Let's chat! (type 'finish_chat' to finish the chat)\n",
            "You: Hello, how are you?\n",
            "GA-97: Ok, I am with you.\n",
            "You: how can you help me?\n",
            "GA-97: You are at the address.\n",
            "You: Tell me a Joke\n",
            "GA-97: Why was the droid angry? Because people kept pushing its buttons.\n",
            "You: Do you know me?\n",
            "GA-97: Sorry I can't tell that in public, maybe you are jedi\n",
            "You: Tell me about Mr Fbravo\n",
            "GA-97: My creator, and he is a really intelligent man\n",
            "You: Do you know me?\n",
            "GA-97: Sorry I can't tell that in public, maybe you are jedi\n",
            "You: Do you know me?\n",
            "GA-97: Sorry I can't tell that in public, maybe you are jedi\n",
            "You: Do you know me?\n",
            "GA-97: Yes, you are a human\n",
            "You: Do you know me?\n",
            "GA-97: Sorry I can't tell that in public, maybe you are jedi\n",
            "You: finish_chat\n"
          ]
        }
      ]
    },
    {
      "cell_type": "code",
      "source": [
        "import matplotlib.pyplot as plt \n",
        "plt.plot(loss_list_sin_cnn,'r')\n",
        "plt.plot(loss_list_con_cnn,'g')\n",
        "plt.legend(['Sin CNN','Con CNN'])\n",
        "plt.title(\"Loss vs Época\")\n",
        "plt.ylabel('Cross-Entropy')\n",
        "plt.xlabel('Época')\n",
        "plt.show()\n"
      ],
      "metadata": {
        "colab": {
          "base_uri": "https://localhost:8080/",
          "height": 299
        },
        "id": "2ZRqRu1RYXZ-",
        "outputId": "574d2f27-af2a-465e-e448-fab1222b9717"
      },
      "execution_count": null,
      "outputs": [
        {
          "output_type": "display_data",
          "data": {
            "text/plain": [
              "<Figure size 432x288 with 1 Axes>"
            ],
            "image/png": "[encoded data removed]"
          },
          "metadata": {
            "needs_background": "light"
          }
        }
      ]
    },
    {
      "cell_type": "markdown",
      "source": [
        "#### Comente los resultados aquí (0,5 puntos)"
      ],
      "metadata": {
        "id": "5Hu2QTuSURCt"
      }
    },
    {
      "cell_type": "markdown",
      "source": [
        "``En general ambos modelos tuvieron un buen compartamiento, sin embargo la red con redes convolucionales alcanzo un menor Loss y redujo su error en un número menor de épocas, lo cual tiene sentido debido a que la capa de convolución permite centrarse solamente en las características que realmente si son importantes para la predicción. Además, se observa que si bien ambas redes obtienen un buen desempeño en la etapa de entrenamiento, tienen una mala capacidad de generalización pues al modificarse levemente algunas frases arrojan predicciones incorrectas (\"Tell me about Mr Fbravo\" vs \"Tell me about mr Fbravo?\"). Finalmente, estos resultados se pueden explicar en que las redes diseñadas no contenían capas de regularización, lo que inducía al sobreajuste y por lo tanto una mala capacidad de generalizar con datos fuera de muestra.``\n",
        "\n",
        "\n",
        "\n"
      ],
      "metadata": {
        "id": "fdFV63WVUX32"
      }
    },
    {
      "cell_type": "code",
      "source": [
        ""
      ],
      "metadata": {
        "id": "lRLCOOI22oTk"
      },
      "execution_count": null,
      "outputs": []
    }
  ]
}